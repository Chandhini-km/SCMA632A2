{
 "cells": [
  {
   "cell_type": "code",
   "execution_count": null,
   "id": "3f526a16",
   "metadata": {},
   "outputs": [],
   "source": [
    "import statsmodels.api as sm\n",
    "from statsmodels.stats.outliers_influence import variance_inflation_factor\n",
    "from sklearn.impute import SimpleImputer\n",
    "import os\n",
    "import pandas as pd"
   ]
  },
  {
   "cell_type": "code",
   "execution_count": 2,
   "id": "6b03f5f0",
   "metadata": {},
   "outputs": [
    {
     "name": "stdout",
     "output_type": "stream",
     "text": [
      "C:\\Users\\Chand\\Downloads\\Assignment1\n"
     ]
    }
   ],
   "source": [
    "# Set working directory\n",
    "os.chdir('C:\\\\Users\\\\Chand\\\\Downloads\\\\Assignment1')\n",
    "print(os.getcwd())"
   ]
  },
  {
   "cell_type": "code",
   "execution_count": 3,
   "id": "851d61ff",
   "metadata": {},
   "outputs": [
    {
     "name": "stderr",
     "output_type": "stream",
     "text": [
      "C:\\Users\\Chand\\AppData\\Local\\Temp\\ipykernel_15052\\95208774.py:2: DtypeWarning: Columns (1) have mixed types. Specify dtype option on import or set low_memory=False.\n",
      "  data = pd.read_csv(\"NSSO68.csv\")\n"
     ]
    }
   ],
   "source": [
    "# Load the dataset\n",
    "data = pd.read_csv(\"NSSO68.csv\")"
   ]
  },
  {
   "cell_type": "code",
   "execution_count": 26,
   "id": "222bf7ec",
   "metadata": {},
   "outputs": [
    {
     "name": "stdout",
     "output_type": "stream",
     "text": [
      "       foodtotal_v  hhdsz  Regular_salary_earner  MPCE_MRP  MPCE_URP  \\\n",
      "14581   968.718500      4                    2.0   2925.13   3449.75   \n",
      "14582  1039.043333      3                    2.0   2854.06   3621.00   \n",
      "14583   766.020714      7                    2.0   2055.04   2026.00   \n",
      "14584   744.270000      2                    1.0   2658.94   2562.50   \n",
      "14585   900.351667      3                    2.0   1993.71   1943.67   \n",
      "...            ...    ...                    ...       ...       ...   \n",
      "47552   450.515833      6                    2.0    845.74    824.50   \n",
      "47553   542.277000      5                    2.0   1011.32    882.20   \n",
      "47554   448.071250      4                    2.0   1008.17   1023.00   \n",
      "47555   468.479000      5                    2.0    943.10    847.40   \n",
      "47556   538.958750      4                    2.0   1062.15    981.50   \n",
      "\n",
      "       Possess_ration_card  Education  No_of_Meals_per_day  \n",
      "14581                  1.0        8.0                  NaN  \n",
      "14582                  1.0        6.0                  2.0  \n",
      "14583                  1.0        8.0                  2.0  \n",
      "14584                  1.0        7.0                  2.0  \n",
      "14585                  1.0        7.0                  2.0  \n",
      "...                    ...        ...                  ...  \n",
      "47552                  1.0        5.0                  2.0  \n",
      "47553                  1.0        7.0                  2.0  \n",
      "47554                  1.0        7.0                  2.0  \n",
      "47555                  1.0        5.0                  2.0  \n",
      "47556                  1.0        6.0                  2.0  \n",
      "\n",
      "[1536 rows x 8 columns]\n"
     ]
    }
   ],
   "source": [
    "# Subset data to state assigned\n",
    "subset_data = data[data['state_1'] == 'MIZ'][['foodtotal_v', 'hhdsz', 'Regular_salary_earner', 'MPCE_MRP', 'MPCE_URP', 'Possess_ration_card', 'Education', 'No_of_Meals_per_day']]\n",
    "print(subset_data)"
   ]
  },
  {
   "cell_type": "code",
   "execution_count": 22,
   "id": "15bda891",
   "metadata": {},
   "outputs": [
    {
     "name": "stdout",
     "output_type": "stream",
     "text": [
      "0\n",
      "0\n",
      "0\n",
      "0\n",
      "2\n",
      "0\n",
      "0\n",
      "Possess_ration_card:\n",
      "0\n"
     ]
    }
   ],
   "source": [
    "# Check for missing values\n",
    "print(subset_data['hhdsz'].isna().sum())\n",
    "print(subset_data['Regular_salary_earner'].isna().sum())\n",
    "print(subset_data['MPCE_MRP'].isna().sum())\n",
    "print(subset_data['MPCE_URP'].isna().sum())\n",
    "print(subset_data['Possess_ration_card'].isna().sum())\n",
    "print(subset_data['Education'].isna().sum())\n",
    "print(subset_data['No_of_Meals_per_day'].isna().sum())\n",
    "\n",
    "# Impute missing values with mean\n",
    "imputer = SimpleImputer(strategy='mean')\n",
    "subset_data['Possess_ration_card'] = imputer.fit_transform(subset_data[['Possess_ration_card']])\n",
    "\n",
    "print(\"Possess_ration_card:\")\n",
    "print(subset_data['Possess_ration_card'].isna().sum())"
   ]
  },
  {
   "cell_type": "code",
   "execution_count": 23,
   "id": "3a337c63",
   "metadata": {},
   "outputs": [
    {
     "name": "stdout",
     "output_type": "stream",
     "text": [
      "                            OLS Regression Results                            \n",
      "==============================================================================\n",
      "Dep. Variable:            foodtotal_v   R-squared:                       0.503\n",
      "Model:                            OLS   Adj. R-squared:                  0.502\n",
      "Method:                 Least Squares   F-statistic:                     1302.\n",
      "Date:                Sun, 23 Jun 2024   Prob (F-statistic):               0.00\n",
      "Time:                        21:16:31   Log-Likelihood:                -61381.\n",
      "No. Observations:                9015   AIC:                         1.228e+05\n",
      "Df Residuals:                    9007   BIC:                         1.228e+05\n",
      "Df Model:                           7                                         \n",
      "Covariance Type:            nonrobust                                         \n",
      "=========================================================================================\n",
      "                            coef    std err          t      P>|t|      [0.025      0.975]\n",
      "-----------------------------------------------------------------------------------------\n",
      "const                   361.0196     23.716     15.223      0.000     314.531     407.509\n",
      "hhdsz                   -12.9630      0.860    -15.074      0.000     -14.649     -11.277\n",
      "Regular_salary_earner   -14.6088      6.197     -2.357      0.018     -26.756      -2.462\n",
      "MPCE_MRP                  0.0728      0.002     34.081      0.000       0.069       0.077\n",
      "MPCE_URP                  0.0592      0.002     30.731      0.000       0.055       0.063\n",
      "Possess_ration_card     -48.0845      5.877     -8.181      0.000     -59.606     -36.563\n",
      "Education                 7.6343      0.638     11.965      0.000       6.384       8.885\n",
      "No_of_Meals_per_day      49.8726      8.234      6.057      0.000      33.732      66.013\n",
      "==============================================================================\n",
      "Omnibus:                     3368.303   Durbin-Watson:                   1.688\n",
      "Prob(Omnibus):                  0.000   Jarque-Bera (JB):          1256929.686\n",
      "Skew:                          -0.422   Prob(JB):                         0.00\n",
      "Kurtosis:                      60.840   Cond. No.                     3.22e+04\n",
      "==============================================================================\n",
      "\n",
      "Notes:\n",
      "[1] Standard Errors assume that the covariance matrix of the errors is correctly specified.\n",
      "[2] The condition number is large, 3.22e+04. This might indicate that there are\n",
      "strong multicollinearity or other numerical problems.\n"
     ]
    }
   ],
   "source": [
    "# Fit the regression model\n",
    "X = subset_data[['hhdsz', 'Regular_salary_earner', 'MPCE_MRP', 'MPCE_URP', 'Possess_ration_card', 'Education', 'No_of_Meals_per_day']]\n",
    "X = sm.add_constant(X)  # Adds a constant term to the predictor\n",
    "y = subset_data['foodtotal_v']\n",
    "\n",
    "model = sm.OLS(y, X).fit()\n",
    "\n",
    "# Print the regression results\n",
    "print(model.summary())"
   ]
  },
  {
   "cell_type": "code",
   "execution_count": 24,
   "id": "a41ee5d1",
   "metadata": {},
   "outputs": [
    {
     "name": "stdout",
     "output_type": "stream",
     "text": [
      "                 feature         VIF\n",
      "0                  const  105.477846\n",
      "1                  hhdsz    1.098855\n",
      "2  Regular_salary_earner    1.138218\n",
      "3               MPCE_MRP    2.068354\n",
      "4               MPCE_URP    1.968635\n",
      "5    Possess_ration_card    1.048881\n",
      "6              Education    1.230296\n",
      "7    No_of_Meals_per_day    1.004672\n"
     ]
    }
   ],
   "source": [
    "# multicollinearity using Variance Inflation Factor (VIF)\n",
    "vif_data = pd.DataFrame()\n",
    "vif_data[\"feature\"] = X.columns\n",
    "vif_data[\"VIF\"] = [variance_inflation_factor(X.values, i) for i in range(len(X.columns))]\n",
    "print(vif_data)  # VIF Value more than 8 is problematic"
   ]
  },
  {
   "cell_type": "code",
   "execution_count": 25,
   "id": "5d57bc4e",
   "metadata": {},
   "outputs": [
    {
     "name": "stdout",
     "output_type": "stream",
     "text": [
      "y = 361.02 + -12.963010*x1 + -14.608830*x2 + 0.072781*x3 + 0.059190*x4 + -48.084503*x5 + 7.634267*x6 + 49.872590*x7\n"
     ]
    }
   ],
   "source": [
    "# Extract the coefficients from the model\n",
    "coefficients = model.params\n",
    "\n",
    "# Construct the equation\n",
    "equation = f\"y = {coefficients[0]:.2f}\"\n",
    "for i in range(1, len(coefficients)):\n",
    "    equation += f\" + {coefficients[i]:.6f}*x{i}\"\n",
    "\n",
    "# Print the equation\n",
    "print(equation)"
   ]
  },
  {
   "cell_type": "code",
   "execution_count": null,
   "id": "20f971b7",
   "metadata": {},
   "outputs": [],
   "source": []
  }
 ],
 "metadata": {
  "kernelspec": {
   "display_name": "Python 3 (ipykernel)",
   "language": "python",
   "name": "python3"
  },
  "language_info": {
   "codemirror_mode": {
    "name": "ipython",
    "version": 3
   },
   "file_extension": ".py",
   "mimetype": "text/x-python",
   "name": "python",
   "nbconvert_exporter": "python",
   "pygments_lexer": "ipython3",
   "version": "3.11.5"
  }
 },
 "nbformat": 4,
 "nbformat_minor": 5
}
